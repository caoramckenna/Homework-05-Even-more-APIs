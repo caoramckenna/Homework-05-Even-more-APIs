{
 "cells": [
  {
   "cell_type": "code",
   "execution_count": null,
   "id": "cb81ee6f-f4eb-435e-8303-7ab269b81b2d",
   "metadata": {},
   "outputs": [],
   "source": [
    "\n",
    "\n",
    "    # Examine both Open Meteo and Tomorrow and decide which one you'd prefer to use. What drove your decision? Open Meteo, looked quickly, it appeared closer to weather api + clearly had current weather. Just kidding, I switched to the other one because it was eaier to get started with it"
   ]
  },
  {
   "cell_type": "code",
   "execution_count": null,
   "id": "f345333f-e203-431a-b4dd-a749e85b9f92",
   "metadata": {},
   "outputs": [],
   "source": [
    "\n",
    "    # What is the URL to the documentation? (You don't use code for this one) https://docs.tomorrow.io/"
   ]
  },
  {
   "cell_type": "code",
   "execution_count": 12,
   "id": "81406899-38e1-4ee7-a128-d94501d5b05f",
   "metadata": {},
   "outputs": [
    {
     "name": "stdout",
     "output_type": "stream",
     "text": [
      "{\"data\":{\"time\":\"2025-06-09T22:04:00Z\",\"values\":{\"cloudBase\":11.6,\"cloudCeiling\":11.6,\"cloudCover\":94,\"dewPoint\":16.6,\"freezingRainIntensity\":0,\"humidity\":80,\"precipitationProbability\":0,\"pressureSeaLevel\":1006.12,\"pressureSurfaceLevel\":978.74,\"rainIntensity\":0,\"sleetIntensity\":0,\"snowIntensity\":0,\"temperature\":20.2,\"temperatureApparent\":20.2,\"uvHealthConcern\":0,\"uvIndex\":1,\"visibility\":15.59,\"weatherCode\":1001,\"windDirection\":172,\"windGust\":8.3,\"windSpeed\":3.6}},\"location\":{\"lat\":44.56190872192383,\"lon\":-78.15374755859375,\"name\":\"Peterborough County, Central Ontario, Ontario, Canada\",\"type\":\"administrative\"}}\n"
     ]
    }
   ],
   "source": [
    " # Make a request for the current weather where you are born, or somewhere you've lived.\n",
    "\n",
    "import requests\n",
    "\n",
    "url = \"https://api.tomorrow.io/v4/weather/realtime?location=peterborough&apikey=AU97O90nhpBaeY6ezDwKgp8gSym8mNtn\"\n",
    "\n",
    "headers = {\n",
    "    \"accept\": \"application/json\",\n",
    "    \"accept-encoding\": \"deflate, gzip, br\"\n",
    "}\n",
    "\n",
    "response = requests.get(url, headers=headers)\n",
    "\n",
    "print(response.text)\n",
    "\n",
    "\n",
    "\n",
    "# for current_temp in response:\n",
    "#     print(current_temp['temperature'])\n"
   ]
  },
  {
   "cell_type": "code",
   "execution_count": 13,
   "id": "727f71c0-1078-4618-8e13-b9324a0fc2da",
   "metadata": {},
   "outputs": [
    {
     "name": "stdout",
     "output_type": "stream",
     "text": [
      "dict_keys(['data', 'location'])\n"
     ]
    }
   ],
   "source": [
    "# Print out the country this location is in.\n",
    "print(data.keys())"
   ]
  },
  {
   "cell_type": "code",
   "execution_count": 17,
   "id": "11d50733-e9f1-4ec4-8de8-0a807020f5fd",
   "metadata": {},
   "outputs": [
    {
     "data": {
      "text/plain": [
       "'Peterborough County, Central Ontario, Ontario, Canada'"
      ]
     },
     "execution_count": 17,
     "metadata": {},
     "output_type": "execute_result"
    }
   ],
   "source": [
    "data['location']['name']"
   ]
  },
  {
   "cell_type": "code",
   "execution_count": 26,
   "id": "b89f4814-4eed-43ff-9a4c-30e7db87974b",
   "metadata": {},
   "outputs": [],
   "source": [
    "country=data['location']['name'].split(\",\")[-1]"
   ]
  },
  {
   "cell_type": "code",
   "execution_count": 27,
   "id": "f162d1f2-e3cb-40bc-9eb6-baf92342dd6a",
   "metadata": {},
   "outputs": [
    {
     "name": "stdout",
     "output_type": "stream",
     "text": [
      " Canada\n"
     ]
    }
   ],
   "source": [
    "print(country)"
   ]
  },
  {
   "cell_type": "code",
   "execution_count": 34,
   "id": "f9270bf1-0d82-4ca7-be4f-46bb9f8c3c9c",
   "metadata": {},
   "outputs": [
    {
     "data": {
      "text/plain": [
       "{'time': '2025-06-09T22:03:00Z',\n",
       " 'values': {'cloudBase': 11.6,\n",
       "  'cloudCeiling': 11.6,\n",
       "  'cloudCover': 94,\n",
       "  'dewPoint': 16.6,\n",
       "  'freezingRainIntensity': 0,\n",
       "  'humidity': 80,\n",
       "  'precipitationProbability': 0,\n",
       "  'pressureSeaLevel': 1006.12,\n",
       "  'pressureSurfaceLevel': 978.74,\n",
       "  'rainIntensity': 0,\n",
       "  'sleetIntensity': 0,\n",
       "  'snowIntensity': 0,\n",
       "  'temperature': 20.2,\n",
       "  'temperatureApparent': 20.2,\n",
       "  'uvHealthConcern': 0,\n",
       "  'uvIndex': 1,\n",
       "  'visibility': 15.59,\n",
       "  'weatherCode': 1001,\n",
       "  'windDirection': 172,\n",
       "  'windGust': 8.3,\n",
       "  'windSpeed': 3.6}}"
      ]
     },
     "execution_count": 34,
     "metadata": {},
     "output_type": "execute_result"
    }
   ],
   "source": [
    "# Print out the difference between the current temperature and how warm it feels. Use \"It feels ___ degrees colder\" or \"It feels ___ degrees warmer,\" not negative numbers.\n",
    "data['data']\n",
    "\n",
    "    "
   ]
  },
  {
   "cell_type": "code",
   "execution_count": 42,
   "id": "46d68cc3-75a8-41fe-8ffd-354d682ac8cd",
   "metadata": {},
   "outputs": [
    {
     "name": "stdout",
     "output_type": "stream",
     "text": [
      "it feels 0.0 degrees warmer than it actually is.\n"
     ]
    }
   ],
   "source": [
    "\n",
    "temp_difference = data['data']['values']['temperature']-data['data']['values']['temperatureApparent']\n",
    "\n",
    "if temp_difference < 0 :\n",
    "    print(f'It feels {temp_difference} degrees colder than it actually is.')\n",
    "else:\n",
    "    print (f'It feels {temp_difference} degrees warmer than it actually is.')\n",
    "\n",
    "\n",
    "    ### i got this far and have to stop for now. i need to double check the math on colder/warmer here but then can continue on down \n"
   ]
  },
  {
   "cell_type": "code",
   "execution_count": 60,
   "id": "3763524f-1a67-4220-999d-ba76fa359781",
   "metadata": {},
   "outputs": [
    {
     "name": "stdout",
     "output_type": "stream",
     "text": [
      "{\"data\":{\"time\":\"2025-06-10T14:24:00Z\",\"values\":{\"cloudBase\":1.2,\"cloudCeiling\":1.3,\"cloudCover\":100,\"dewPoint\":12.4,\"freezingRainIntensity\":0,\"humidity\":56,\"precipitationProbability\":0,\"pressureSeaLevel\":1016.79,\"pressureSurfaceLevel\":1014.24,\"rainIntensity\":0,\"sleetIntensity\":0,\"snowIntensity\":0,\"temperature\":21.4,\"temperatureApparent\":21.4,\"visibility\":16,\"weatherCode\":1001,\"windDirection\":300,\"windGust\":9.1,\"windSpeed\":3.8}},\"location\":{\"lat\":51.468,\"lon\":-0.4551}}\n",
      "dict_keys(['data', 'location'])\n"
     ]
    }
   ],
   "source": [
    "# What's the current temperature at Heathrow International Airport? Use the airport's IATA code to search.\n",
    "url = \"https://api.tomorrow.io/v4/weather/realtime?location=51.4680,-0.4551&apikey=AU97O90nhpBaeY6ezDwKgp8gSym8mNtn\"\n",
    "\n",
    "headers = {\n",
    "    \"accept\": \"application/json\",\n",
    "    \"accept-encoding\": \"deflate, gzip, br\"\n",
    "}\n",
    "\n",
    "response = requests.get(url, headers=headers)\n",
    "data = response.json()\n",
    "print(response.text)\n",
    "print(data.keys())"
   ]
  },
  {
   "cell_type": "code",
   "execution_count": 57,
   "id": "605fd2a8-818c-4c91-982b-570fe2a41e49",
   "metadata": {},
   "outputs": [
    {
     "data": {
      "text/plain": [
       "{'time': '2025-06-10T14:17:00Z',\n",
       " 'values': {'cloudBase': 1.2,\n",
       "  'cloudCeiling': 1.3,\n",
       "  'cloudCover': 100,\n",
       "  'dewPoint': 12.4,\n",
       "  'freezingRainIntensity': 0,\n",
       "  'humidity': 56,\n",
       "  'precipitationProbability': 0,\n",
       "  'pressureSeaLevel': 1016.79,\n",
       "  'pressureSurfaceLevel': 1014.24,\n",
       "  'rainIntensity': 0,\n",
       "  'sleetIntensity': 0,\n",
       "  'snowIntensity': 0,\n",
       "  'temperature': 21.4,\n",
       "  'temperatureApparent': 21.4,\n",
       "  'visibility': 16,\n",
       "  'weatherCode': 1001,\n",
       "  'windDirection': 300,\n",
       "  'windGust': 9.1,\n",
       "  'windSpeed': 3.8}}"
      ]
     },
     "execution_count": 57,
     "metadata": {},
     "output_type": "execute_result"
    }
   ],
   "source": [
    "\n",
    "data['data']"
   ]
  },
  {
   "cell_type": "code",
   "execution_count": 69,
   "id": "5f4772e9-242e-4b3f-b634-90bf6a67817f",
   "metadata": {},
   "outputs": [
    {
     "data": {
      "text/plain": [
       "21.4"
      ]
     },
     "execution_count": 69,
     "metadata": {},
     "output_type": "execute_result"
    }
   ],
   "source": [
    "data['data']['values']['temperature']"
   ]
  },
  {
   "cell_type": "code",
   "execution_count": 70,
   "id": "994a596a-5aad-4e62-99d2-80d3e1ac54d5",
   "metadata": {},
   "outputs": [
    {
     "name": "stdout",
     "output_type": "stream",
     "text": [
      " it is 21.4 at Heathrow right now\n"
     ]
    }
   ],
   "source": [
    "print(f' it is {data['data']['values']['temperature']} at Heathrow right now') "
   ]
  },
  {
   "cell_type": "code",
   "execution_count": null,
   "id": "3e785cfd-e20b-479f-9c5b-9833b7ca7786",
   "metadata": {},
   "outputs": [],
   "source": [
    "# What URL would I use to request a 3-day forecast at Heathrow?\n",
    "\n",
    "# url = \"https://api.tomorrow.io/v4/weather/forecast?location=51.4680%2C%20-0.4551&timesteps=daily&apikey=AU97O90nhpBaeY6ezDwKgp8gSym8mNtn\"\n",
    "\n"
   ]
  },
  {
   "cell_type": "code",
   "execution_count": 76,
   "id": "69f34a64-7ba1-4515-94de-739c5c39f8aa",
   "metadata": {
    "scrolled": true
   },
   "outputs": [
    {
     "name": "stdout",
     "output_type": "stream",
     "text": [
      "{\"timelines\":{\"daily\":[{\"time\":\"2025-06-10T05:00:00Z\",\"values\":{\"cloudBaseAvg\":2.4,\"cloudBaseMax\":11.7,\"cloudBaseMin\":0,\"cloudCeilingAvg\":3.6,\"cloudCeilingMax\":12.5,\"cloudCeilingMin\":0,\"cloudCoverAvg\":71,\"cloudCoverMax\":100,\"cloudCoverMin\":0,\"dewPointAvg\":11.8,\"dewPointMax\":15.1,\"dewPointMin\":10.3,\"evapotranspirationAvg\":0.176,\"evapotranspirationMax\":0.376,\"evapotranspirationMin\":0.036,\"evapotranspirationSum\":4.216,\"freezingRainIntensityAvg\":0,\"freezingRainIntensityMax\":0,\"freezingRainIntensityMin\":0,\"humidityAvg\":71,\"humidityMax\":89,\"humidityMin\":50,\"iceAccumulationAvg\":0,\"iceAccumulationLweAvg\":0,\"iceAccumulationLweMax\":0,\"iceAccumulationLweMin\":0,\"iceAccumulationLweSum\":0,\"iceAccumulationMax\":0,\"iceAccumulationMin\":0,\"iceAccumulationSum\":0,\"moonriseTime\":\"2025-06-10T20:14:40Z\",\"moonsetTime\":\"2025-06-10T02:28:28Z\",\"precipitationProbabilityAvg\":0,\"precipitationProbabilityMax\":0,\"precipitationProbabilityMin\":0,\"pressureSeaLevelAvg\":1017.75,\"pressureSeaLevelMax\":1020.4,\"pressureSeaLevelMin\":1015.1,\"pressureSurfaceLevelAvg\":1015.19,\"pressureSurfaceLevelMax\":1017.88,\"pressureSurfaceLevelMin\":1011.53,\"rainAccumulationAvg\":0,\"rainAccumulationMax\":0.02,\"rainAccumulationMin\":0,\"rainAccumulationSum\":0.02,\"rainIntensityAvg\":0,\"rainIntensityMax\":0,\"rainIntensityMin\":0,\"sleetAccumulationAvg\":0,\"sleetAccumulationLweAvg\":0,\"sleetAccumulationLweMax\":0,\"sleetAccumulationLweMin\":0,\"sleetAccumulationLweSum\":0,\"sleetAccumulationMax\":0,\"sleetAccumulationMin\":0,\"sleetIntensityAvg\":0,\"sleetIntensityMax\":0,\"sleetIntensityMin\":0,\"snowAccumulationAvg\":0,\"snowAccumulationLweAvg\":0,\"snowAccumulationLweMax\":0,\"snowAccumulationLweMin\":0,\"snowAccumulationLweSum\":0,\"snowAccumulationMax\":0,\"snowAccumulationMin\":0,\"snowAccumulationSum\":0,\"snowIntensityAvg\":0,\"snowIntensityMax\":0,\"snowIntensityMin\":0,\"sunriseTime\":\"2025-06-10T04:08:00Z\",\"sunsetTime\":\"2025-06-10T19:54:00Z\",\"temperatureApparentAvg\":17.4,\"temperatureApparentMax\":23.4,\"temperatureApparentMin\":12.2,\"temperatureAvg\":17.4,\"temperatureMax\":23.4,\"temperatureMin\":12.2,\"uvHealthConcernAvg\":0,\"uvHealthConcernMax\":1,\"uvHealthConcernMin\":0,\"uvIndexAvg\":1,\"uvIndexMax\":4,\"uvIndexMin\":0,\"visibilityAvg\":16,\"visibilityMax\":16,\"visibilityMin\":16,\"weatherCodeMax\":1001,\"weatherCodeMin\":1001,\"windDirectionAvg\":189,\"windGustAvg\":5.8,\"windGustMax\":11.4,\"windGustMin\":2.9,\"windSpeedAvg\":2.7,\"windSpeedMax\":5.2,\"windSpeedMin\":1.1}},{\"time\":\"2025-06-11T05:00:00Z\",\"values\":{\"cloudBaseAvg\":3.7,\"cloudBaseMax\":11.6,\"cloudBaseMin\":0,\"cloudCeilingAvg\":4.4,\"cloudCeilingMax\":12.4,\"cloudCeilingMin\":0,\"cloudCoverAvg\":77,\"cloudCoverMax\":100,\"cloudCoverMin\":4,\"dewPointAvg\":11.9,\"dewPointMax\":14,\"dewPointMin\":9.8,\"evapotranspirationAvg\":0.142,\"evapotranspirationMax\":0.223,\"evapotranspirationMin\":0.061,\"evapotranspirationSum\":3.417,\"freezingRainIntensityAvg\":0,\"freezingRainIntensityMax\":0,\"freezingRainIntensityMin\":0,\"humidityAvg\":68,\"humidityMax\":89,\"humidityMin\":49,\"iceAccumulationAvg\":0,\"iceAccumulationLweAvg\":0,\"iceAccumulationLweMax\":0,\"iceAccumulationLweMin\":0,\"iceAccumulationLweSum\":0,\"iceAccumulationMax\":0,\"iceAccumulationMin\":0,\"iceAccumulationSum\":0,\"moonriseTime\":\"2025-06-11T21:15:28Z\",\"moonsetTime\":\"2025-06-11T03:04:19Z\",\"precipitationProbabilityAvg\":0.6,\"precipitationProbabilityMax\":5,\"precipitationProbabilityMin\":0,\"pressureSeaLevelAvg\":1017.88,\"pressureSeaLevelMax\":1020.93,\"pressureSeaLevelMin\":1013.41,\"pressureSurfaceLevelAvg\":1015.36,\"pressureSurfaceLevelMax\":1018.41,\"pressureSurfaceLevelMin\":1010.92,\"rainAccumulationAvg\":0,\"rainAccumulationMax\":0,\"rainAccumulationMin\":0,\"rainAccumulationSum\":0,\"rainIntensityAvg\":0.01,\"rainIntensityMax\":0.06,\"rainIntensityMin\":0,\"sleetIntensityAvg\":0,\"sleetIntensityMax\":0,\"sleetIntensityMin\":0,\"snowAccumulationAvg\":0,\"snowAccumulationLweAvg\":0,\"snowAccumulationLweMax\":0,\"snowAccumulationLweMin\":0,\"snowAccumulationLweSum\":0,\"snowAccumulationMax\":0,\"snowAccumulationMin\":0,\"snowAccumulationSum\":0,\"snowIntensityAvg\":0,\"snowIntensityMax\":0,\"snowIntensityMin\":0,\"sunriseTime\":\"2025-06-11T04:08:00Z\",\"sunsetTime\":\"2025-06-11T19:54:00Z\",\"temperatureApparentAvg\":18.1,\"temperatureApparentMax\":23,\"temperatureApparentMin\":12.7,\"temperatureAvg\":18.1,\"temperatureMax\":23,\"temperatureMin\":12.7,\"uvHealthConcernAvg\":0,\"uvHealthConcernMax\":1,\"uvHealthConcernMin\":0,\"uvIndexAvg\":1,\"uvIndexMax\":5,\"uvIndexMin\":0,\"visibilityAvg\":16,\"visibilityMax\":16,\"visibilityMin\":16,\"weatherCodeMax\":1001,\"weatherCodeMin\":1001,\"windDirectionAvg\":110,\"windGustAvg\":7.9,\"windGustMax\":10,\"windGustMin\":4.1,\"windSpeedAvg\":3.6,\"windSpeedMax\":4.6,\"windSpeedMin\":2.1}},{\"time\":\"2025-06-12T05:00:00Z\",\"values\":{\"cloudBaseAvg\":2.1,\"cloudBaseMax\":7.6,\"cloudBaseMin\":0,\"cloudCeilingAvg\":2.6,\"cloudCeilingMax\":10.7,\"cloudCeilingMin\":0,\"cloudCoverAvg\":54,\"cloudCoverMax\":100,\"cloudCoverMin\":0,\"dewPointAvg\":13.9,\"dewPointMax\":16.4,\"dewPointMin\":11.1,\"evapotranspirationAvg\":0.144,\"evapotranspirationMax\":0.234,\"evapotranspirationMin\":0.088,\"evapotranspirationSum\":3.464,\"freezingRainIntensityAvg\":0,\"freezingRainIntensityMax\":0,\"freezingRainIntensityMin\":0,\"humidityAvg\":72,\"humidityMax\":91,\"humidityMin\":58,\"iceAccumulationAvg\":0,\"iceAccumulationLweAvg\":0,\"iceAccumulationLweMax\":0,\"iceAccumulationLweMin\":0,\"iceAccumulationLweSum\":0,\"iceAccumulationMax\":0,\"iceAccumulationMin\":0,\"iceAccumulationSum\":0,\"moonriseTime\":\"2025-06-12T22:03:45Z\",\"moonsetTime\":\"2025-06-12T03:52:43Z\",\"precipitationProbabilityAvg\":0,\"precipitationProbabilityMax\":0,\"precipitationProbabilityMin\":0,\"pressureSeaLevelAvg\":1013.33,\"pressureSeaLevelMax\":1016.51,\"pressureSeaLevelMin\":1011.14,\"pressureSurfaceLevelAvg\":1010.83,\"pressureSurfaceLevelMax\":1014.01,\"pressureSurfaceLevelMin\":1008.65,\"rainAccumulationAvg\":0.07,\"rainAccumulationMax\":1.24,\"rainAccumulationMin\":0,\"rainAccumulationSum\":1.61,\"rainIntensityAvg\":0,\"rainIntensityMax\":0,\"rainIntensityMin\":0,\"sleetIntensityAvg\":0,\"sleetIntensityMax\":0,\"sleetIntensityMin\":0,\"snowAccumulationAvg\":0,\"snowAccumulationLweAvg\":0,\"snowAccumulationLweMax\":0,\"snowAccumulationLweMin\":0,\"snowAccumulationLweSum\":0,\"snowAccumulationMax\":0,\"snowAccumulationMin\":0,\"snowAccumulationSum\":0,\"snowIntensityAvg\":0,\"snowIntensityMax\":0,\"snowIntensityMin\":0,\"sunriseTime\":\"2025-06-12T04:08:00Z\",\"sunsetTime\":\"2025-06-12T19:55:00Z\",\"temperatureApparentAvg\":19.3,\"temperatureApparentMax\":24.1,\"temperatureApparentMin\":14.7,\"temperatureAvg\":19.3,\"temperatureMax\":24.1,\"temperatureMin\":14.7,\"uvHealthConcernAvg\":0,\"uvHealthConcernMax\":2,\"uvHealthConcernMin\":0,\"uvIndexAvg\":1,\"uvIndexMax\":6,\"uvIndexMin\":0,\"visibilityAvg\":16,\"visibilityMax\":16,\"visibilityMin\":16,\"weatherCodeMax\":1001,\"weatherCodeMin\":1001,\"windDirectionAvg\":159,\"windGustAvg\":6.3,\"windGustMax\":11.2,\"windGustMin\":1,\"windSpeedAvg\":2.9,\"windSpeedMax\":4.8,\"windSpeedMin\":0.6}},{\"time\":\"2025-06-13T05:00:00Z\",\"values\":{\"cloudBaseAvg\":1.6,\"cloudBaseMax\":8.6,\"cloudBaseMin\":0,\"cloudCeilingAvg\":2.8,\"cloudCeilingMax\":10.8,\"cloudCeilingMin\":0,\"cloudCoverAvg\":66,\"cloudCoverMax\":100,\"cloudCoverMin\":3,\"dewPointAvg\":14.5,\"dewPointMax\":17.5,\"dewPointMin\":12.3,\"evapotranspirationAvg\":0.139,\"evapotranspirationMax\":0.239,\"evapotranspirationMin\":0.087,\"evapotranspirationSum\":3.341,\"freezingRainIntensityAvg\":0,\"freezingRainIntensityMax\":0,\"freezingRainIntensityMin\":0,\"humidityAvg\":69,\"humidityMax\":96,\"humidityMin\":42,\"iceAccumulationAvg\":0,\"iceAccumulationLweAvg\":0,\"iceAccumulationLweMax\":0,\"iceAccumulationLweMin\":0,\"iceAccumulationLweSum\":0,\"iceAccumulationMax\":0,\"iceAccumulationMin\":0,\"iceAccumulationSum\":0,\"moonriseTime\":\"2025-06-13T22:40:41Z\",\"moonsetTime\":\"2025-06-13T04:56:57Z\",\"precipitationProbabilityAvg\":3.8,\"precipitationProbabilityMax\":25,\"precipitationProbabilityMin\":0,\"pressureSeaLevelAvg\":1016.22,\"pressureSeaLevelMax\":1017.72,\"pressureSeaLevelMin\":1012.78,\"pressureSurfaceLevelAvg\":1013.72,\"pressureSurfaceLevelMax\":1015.24,\"pressureSurfaceLevelMin\":1010.28,\"rainAccumulationAvg\":0.09,\"rainAccumulationMax\":1.6,\"rainAccumulationMin\":0,\"rainAccumulationSum\":2.15,\"rainIntensityAvg\":0.05,\"rainIntensityMax\":0.68,\"rainIntensityMin\":0,\"sleetIntensityAvg\":0,\"sleetIntensityMax\":0,\"sleetIntensityMin\":0,\"snowAccumulationAvg\":0,\"snowAccumulationLweAvg\":0,\"snowAccumulationLweMax\":0,\"snowAccumulationLweMin\":0,\"snowAccumulationLweSum\":0,\"snowAccumulationMax\":0,\"snowAccumulationMin\":0,\"snowAccumulationSum\":0,\"snowIntensityAvg\":0,\"snowIntensityMax\":0,\"snowIntensityMin\":0,\"sunriseTime\":\"2025-06-13T04:08:00Z\",\"sunsetTime\":\"2025-06-13T19:55:00Z\",\"temperatureApparentAvg\":21.1,\"temperatureApparentMax\":26.7,\"temperatureApparentMin\":15.5,\"temperatureAvg\":21.1,\"temperatureMax\":26.7,\"temperatureMin\":15.5,\"uvHealthConcernAvg\":0,\"uvHealthConcernMax\":2,\"uvHealthConcernMin\":0,\"uvIndexAvg\":2,\"uvIndexMax\":6,\"uvIndexMin\":0,\"visibilityAvg\":16,\"visibilityMax\":16,\"visibilityMin\":16,\"weatherCodeMax\":1001,\"weatherCodeMin\":1001,\"windDirectionAvg\":179,\"windGustAvg\":5,\"windGustMax\":8.1,\"windGustMin\":2.5,\"windSpeedAvg\":2.1,\"windSpeedMax\":3.4,\"windSpeedMin\":0.7}},{\"time\":\"2025-06-14T05:00:00Z\",\"values\":{\"cloudBaseAvg\":0.7,\"cloudBaseMax\":1.4,\"cloudBaseMin\":0,\"cloudCeilingAvg\":1.1,\"cloudCeilingMax\":8.6,\"cloudCeilingMin\":0,\"cloudCoverAvg\":29,\"cloudCoverMax\":93,\"cloudCoverMin\":0,\"dewPointAvg\":12.6,\"dewPointMax\":16.5,\"dewPointMin\":10.4,\"evapotranspirationAvg\":0.129,\"evapotranspirationMax\":0.203,\"evapotranspirationMin\":0.083,\"evapotranspirationSum\":3.093,\"freezingRainIntensityAvg\":0,\"freezingRainIntensityMax\":0,\"freezingRainIntensityMin\":0,\"humidityAvg\":75,\"humidityMax\":92,\"humidityMin\":50,\"iceAccumulationAvg\":0,\"iceAccumulationLweAvg\":0,\"iceAccumulationLweMax\":0,\"iceAccumulationLweMin\":0,\"iceAccumulationLweSum\":0,\"iceAccumulationMax\":0,\"iceAccumulationMin\":0,\"iceAccumulationSum\":0,\"moonriseTime\":\"2025-06-14T23:06:06Z\",\"moonsetTime\":\"2025-06-14T06:11:55Z\",\"precipitationProbabilityAvg\":0.6,\"precipitationProbabilityMax\":5,\"precipitationProbabilityMin\":0,\"pressureSeaLevelAvg\":1018.25,\"pressureSeaLevelMax\":1021.41,\"pressureSeaLevelMin\":1014.26,\"pressureSurfaceLevelAvg\":1015.72,\"pressureSurfaceLevelMax\":1018.88,\"pressureSurfaceLevelMin\":1011.79,\"rainAccumulationAvg\":0,\"rainAccumulationMax\":0,\"rainAccumulationMin\":0,\"rainAccumulationSum\":0,\"rainIntensityAvg\":0,\"rainIntensityMax\":0.02,\"rainIntensityMin\":0,\"sleetIntensityAvg\":0,\"sleetIntensityMax\":0,\"sleetIntensityMin\":0,\"snowAccumulationAvg\":0,\"snowAccumulationLweAvg\":0,\"snowAccumulationLweMax\":0,\"snowAccumulationLweMin\":0,\"snowAccumulationLweSum\":0,\"snowAccumulationMax\":0,\"snowAccumulationMin\":0,\"snowAccumulationSum\":0,\"snowIntensityAvg\":0,\"snowIntensityMax\":0,\"snowIntensityMin\":0,\"sunriseTime\":\"2025-06-14T04:08:00Z\",\"sunsetTime\":\"2025-06-14T19:56:00Z\",\"temperatureApparentAvg\":17.5,\"temperatureApparentMax\":21.3,\"temperatureApparentMin\":12.6,\"temperatureAvg\":17.5,\"temperatureMax\":21.3,\"temperatureMin\":12.6,\"uvHealthConcernAvg\":0,\"uvHealthConcernMax\":1,\"uvHealthConcernMin\":0,\"uvIndexAvg\":2,\"uvIndexMax\":4,\"uvIndexMin\":0,\"visibilityAvg\":16,\"visibilityMax\":16,\"visibilityMin\":16,\"weatherCodeMax\":1100,\"weatherCodeMin\":1100,\"windDirectionAvg\":231,\"windGustAvg\":7.7,\"windGustMax\":11.5,\"windGustMin\":4.6,\"windSpeedAvg\":3.5,\"windSpeedMax\":4.7,\"windSpeedMin\":2.3}},{\"time\":\"2025-06-15T05:00:00Z\",\"values\":{\"cloudBaseAvg\":0.9,\"cloudBaseMax\":2.5,\"cloudBaseMin\":0,\"cloudCeilingAvg\":0.2,\"cloudCeilingMax\":0.9,\"cloudCeilingMin\":0,\"cloudCoverAvg\":40,\"cloudCoverMax\":100,\"cloudCoverMin\":1,\"dewPointAvg\":11.3,\"dewPointMax\":12.1,\"dewPointMin\":10.4,\"evapotranspirationAvg\":0.125,\"evapotranspirationMax\":0.185,\"evapotranspirationMin\":0.088,\"evapotranspirationSum\":2.995,\"freezingRainIntensityAvg\":0,\"freezingRainIntensityMax\":0,\"freezingRainIntensityMin\":0,\"humidityAvg\":71,\"humidityMax\":87,\"humidityMin\":51,\"iceAccumulationAvg\":0,\"iceAccumulationLweAvg\":0,\"iceAccumulationLweMax\":0,\"iceAccumulationLweMin\":0,\"iceAccumulationLweSum\":0,\"iceAccumulationMax\":0,\"iceAccumulationMin\":0,\"iceAccumulationSum\":0,\"moonriseTime\":\"2025-06-15T23:26:26Z\",\"moonsetTime\":\"2025-06-15T07:34:13Z\",\"precipitationProbabilityAvg\":2.5,\"precipitationProbabilityMax\":5,\"precipitationProbabilityMin\":0,\"pressureSeaLevelAvg\":1025.35,\"pressureSeaLevelMax\":1029.07,\"pressureSeaLevelMin\":1022.42,\"pressureSurfaceLevelAvg\":1022.82,\"pressureSurfaceLevelMax\":1026.52,\"pressureSurfaceLevelMin\":1019.9,\"rainAccumulationAvg\":0,\"rainAccumulationMax\":0,\"rainAccumulationMin\":0,\"rainAccumulationSum\":0,\"rainIntensityAvg\":0.03,\"rainIntensityMax\":0.15,\"rainIntensityMin\":0,\"sleetIntensityAvg\":0,\"sleetIntensityMax\":0,\"sleetIntensityMin\":0,\"snowAccumulationAvg\":0,\"snowAccumulationLweAvg\":0,\"snowAccumulationLweMax\":0,\"snowAccumulationLweMin\":0,\"snowAccumulationLweSum\":0,\"snowAccumulationMax\":0,\"snowAccumulationMin\":0,\"snowAccumulationSum\":0,\"snowIntensityAvg\":0,\"snowIntensityMax\":0,\"snowIntensityMin\":0,\"sunriseTime\":\"2025-06-15T04:08:00Z\",\"sunsetTime\":\"2025-06-15T19:56:00Z\",\"temperatureApparentAvg\":16.9,\"temperatureApparentMax\":20.8,\"temperatureApparentMin\":13.8,\"temperatureAvg\":16.9,\"temperatureMax\":20.8,\"temperatureMin\":13.8,\"visibilityAvg\":16,\"visibilityMax\":16,\"visibilityMin\":16,\"weatherCodeMax\":1000,\"weatherCodeMin\":1000,\"windDirectionAvg\":296,\"windGustAvg\":6.1,\"windGustMax\":9.1,\"windGustMin\":3.6,\"windSpeedAvg\":2.8,\"windSpeedMax\":4,\"windSpeedMin\":1.4}}]},\"location\":{\"lat\":51.468,\"lon\":-0.4551}}\n",
      "dict_keys(['timelines', 'location'])\n"
     ]
    }
   ],
   "source": [
    "# Print the date of each of the 3 days you're getting a forecast for.\n",
    "import requests\n",
    "\n",
    "\n",
    "url = \"https://api.tomorrow.io/v4/weather/forecast?location=51.4680%2C%20-0.4551&timesteps=daily&apikey=AU97O90nhpBaeY6ezDwKgp8gSym8mNtn\"\n",
    "\n",
    "headers = {\n",
    "    \"accept\": \"application/json\",\n",
    "    \"accept-encoding\": \"deflate, gzip, br\"\n",
    "}\n",
    "\n",
    "response = requests.get(url, headers=headers)\n",
    "data = response.json()\n",
    "print(response.text)\n"
   ]
  },
  {
   "cell_type": "code",
   "execution_count": 77,
   "id": "949db7fd-f9fe-4078-a2b6-c2d707cb4485",
   "metadata": {},
   "outputs": [
    {
     "name": "stdout",
     "output_type": "stream",
     "text": [
      "dict_keys(['timelines', 'location'])\n"
     ]
    }
   ],
   "source": [
    "\n",
    "\n",
    "print(data.keys())"
   ]
  },
  {
   "cell_type": "code",
   "execution_count": 82,
   "id": "e2ec677d-7397-4256-a8e6-73a75177183d",
   "metadata": {},
   "outputs": [
    {
     "data": {
      "text/plain": [
       "{'daily': [{'time': '2025-06-10T05:00:00Z',\n",
       "   'values': {'cloudBaseAvg': 2.4,\n",
       "    'cloudBaseMax': 11.7,\n",
       "    'cloudBaseMin': 0,\n",
       "    'cloudCeilingAvg': 3.6,\n",
       "    'cloudCeilingMax': 12.5,\n",
       "    'cloudCeilingMin': 0,\n",
       "    'cloudCoverAvg': 71,\n",
       "    'cloudCoverMax': 100,\n",
       "    'cloudCoverMin': 0,\n",
       "    'dewPointAvg': 11.8,\n",
       "    'dewPointMax': 15.1,\n",
       "    'dewPointMin': 10.3,\n",
       "    'evapotranspirationAvg': 0.176,\n",
       "    'evapotranspirationMax': 0.376,\n",
       "    'evapotranspirationMin': 0.036,\n",
       "    'evapotranspirationSum': 4.216,\n",
       "    'freezingRainIntensityAvg': 0,\n",
       "    'freezingRainIntensityMax': 0,\n",
       "    'freezingRainIntensityMin': 0,\n",
       "    'humidityAvg': 71,\n",
       "    'humidityMax': 89,\n",
       "    'humidityMin': 50,\n",
       "    'iceAccumulationAvg': 0,\n",
       "    'iceAccumulationLweAvg': 0,\n",
       "    'iceAccumulationLweMax': 0,\n",
       "    'iceAccumulationLweMin': 0,\n",
       "    'iceAccumulationLweSum': 0,\n",
       "    'iceAccumulationMax': 0,\n",
       "    'iceAccumulationMin': 0,\n",
       "    'iceAccumulationSum': 0,\n",
       "    'moonriseTime': '2025-06-10T20:14:40Z',\n",
       "    'moonsetTime': '2025-06-10T02:28:28Z',\n",
       "    'precipitationProbabilityAvg': 0,\n",
       "    'precipitationProbabilityMax': 0,\n",
       "    'precipitationProbabilityMin': 0,\n",
       "    'pressureSeaLevelAvg': 1017.75,\n",
       "    'pressureSeaLevelMax': 1020.4,\n",
       "    'pressureSeaLevelMin': 1015.1,\n",
       "    'pressureSurfaceLevelAvg': 1015.19,\n",
       "    'pressureSurfaceLevelMax': 1017.88,\n",
       "    'pressureSurfaceLevelMin': 1011.53,\n",
       "    'rainAccumulationAvg': 0,\n",
       "    'rainAccumulationMax': 0.02,\n",
       "    'rainAccumulationMin': 0,\n",
       "    'rainAccumulationSum': 0.02,\n",
       "    'rainIntensityAvg': 0,\n",
       "    'rainIntensityMax': 0,\n",
       "    'rainIntensityMin': 0,\n",
       "    'sleetAccumulationAvg': 0,\n",
       "    'sleetAccumulationLweAvg': 0,\n",
       "    'sleetAccumulationLweMax': 0,\n",
       "    'sleetAccumulationLweMin': 0,\n",
       "    'sleetAccumulationLweSum': 0,\n",
       "    'sleetAccumulationMax': 0,\n",
       "    'sleetAccumulationMin': 0,\n",
       "    'sleetIntensityAvg': 0,\n",
       "    'sleetIntensityMax': 0,\n",
       "    'sleetIntensityMin': 0,\n",
       "    'snowAccumulationAvg': 0,\n",
       "    'snowAccumulationLweAvg': 0,\n",
       "    'snowAccumulationLweMax': 0,\n",
       "    'snowAccumulationLweMin': 0,\n",
       "    'snowAccumulationLweSum': 0,\n",
       "    'snowAccumulationMax': 0,\n",
       "    'snowAccumulationMin': 0,\n",
       "    'snowAccumulationSum': 0,\n",
       "    'snowIntensityAvg': 0,\n",
       "    'snowIntensityMax': 0,\n",
       "    'snowIntensityMin': 0,\n",
       "    'sunriseTime': '2025-06-10T04:08:00Z',\n",
       "    'sunsetTime': '2025-06-10T19:54:00Z',\n",
       "    'temperatureApparentAvg': 17.4,\n",
       "    'temperatureApparentMax': 23.4,\n",
       "    'temperatureApparentMin': 12.2,\n",
       "    'temperatureAvg': 17.4,\n",
       "    'temperatureMax': 23.4,\n",
       "    'temperatureMin': 12.2,\n",
       "    'uvHealthConcernAvg': 0,\n",
       "    'uvHealthConcernMax': 1,\n",
       "    'uvHealthConcernMin': 0,\n",
       "    'uvIndexAvg': 1,\n",
       "    'uvIndexMax': 4,\n",
       "    'uvIndexMin': 0,\n",
       "    'visibilityAvg': 16,\n",
       "    'visibilityMax': 16,\n",
       "    'visibilityMin': 16,\n",
       "    'weatherCodeMax': 1001,\n",
       "    'weatherCodeMin': 1001,\n",
       "    'windDirectionAvg': 189,\n",
       "    'windGustAvg': 5.8,\n",
       "    'windGustMax': 11.4,\n",
       "    'windGustMin': 2.9,\n",
       "    'windSpeedAvg': 2.7,\n",
       "    'windSpeedMax': 5.2,\n",
       "    'windSpeedMin': 1.1}},\n",
       "  {'time': '2025-06-11T05:00:00Z',\n",
       "   'values': {'cloudBaseAvg': 3.7,\n",
       "    'cloudBaseMax': 11.6,\n",
       "    'cloudBaseMin': 0,\n",
       "    'cloudCeilingAvg': 4.4,\n",
       "    'cloudCeilingMax': 12.4,\n",
       "    'cloudCeilingMin': 0,\n",
       "    'cloudCoverAvg': 77,\n",
       "    'cloudCoverMax': 100,\n",
       "    'cloudCoverMin': 4,\n",
       "    'dewPointAvg': 11.9,\n",
       "    'dewPointMax': 14,\n",
       "    'dewPointMin': 9.8,\n",
       "    'evapotranspirationAvg': 0.142,\n",
       "    'evapotranspirationMax': 0.223,\n",
       "    'evapotranspirationMin': 0.061,\n",
       "    'evapotranspirationSum': 3.417,\n",
       "    'freezingRainIntensityAvg': 0,\n",
       "    'freezingRainIntensityMax': 0,\n",
       "    'freezingRainIntensityMin': 0,\n",
       "    'humidityAvg': 68,\n",
       "    'humidityMax': 89,\n",
       "    'humidityMin': 49,\n",
       "    'iceAccumulationAvg': 0,\n",
       "    'iceAccumulationLweAvg': 0,\n",
       "    'iceAccumulationLweMax': 0,\n",
       "    'iceAccumulationLweMin': 0,\n",
       "    'iceAccumulationLweSum': 0,\n",
       "    'iceAccumulationMax': 0,\n",
       "    'iceAccumulationMin': 0,\n",
       "    'iceAccumulationSum': 0,\n",
       "    'moonriseTime': '2025-06-11T21:15:28Z',\n",
       "    'moonsetTime': '2025-06-11T03:04:19Z',\n",
       "    'precipitationProbabilityAvg': 0.6,\n",
       "    'precipitationProbabilityMax': 5,\n",
       "    'precipitationProbabilityMin': 0,\n",
       "    'pressureSeaLevelAvg': 1017.88,\n",
       "    'pressureSeaLevelMax': 1020.93,\n",
       "    'pressureSeaLevelMin': 1013.41,\n",
       "    'pressureSurfaceLevelAvg': 1015.36,\n",
       "    'pressureSurfaceLevelMax': 1018.41,\n",
       "    'pressureSurfaceLevelMin': 1010.92,\n",
       "    'rainAccumulationAvg': 0,\n",
       "    'rainAccumulationMax': 0,\n",
       "    'rainAccumulationMin': 0,\n",
       "    'rainAccumulationSum': 0,\n",
       "    'rainIntensityAvg': 0.01,\n",
       "    'rainIntensityMax': 0.06,\n",
       "    'rainIntensityMin': 0,\n",
       "    'sleetIntensityAvg': 0,\n",
       "    'sleetIntensityMax': 0,\n",
       "    'sleetIntensityMin': 0,\n",
       "    'snowAccumulationAvg': 0,\n",
       "    'snowAccumulationLweAvg': 0,\n",
       "    'snowAccumulationLweMax': 0,\n",
       "    'snowAccumulationLweMin': 0,\n",
       "    'snowAccumulationLweSum': 0,\n",
       "    'snowAccumulationMax': 0,\n",
       "    'snowAccumulationMin': 0,\n",
       "    'snowAccumulationSum': 0,\n",
       "    'snowIntensityAvg': 0,\n",
       "    'snowIntensityMax': 0,\n",
       "    'snowIntensityMin': 0,\n",
       "    'sunriseTime': '2025-06-11T04:08:00Z',\n",
       "    'sunsetTime': '2025-06-11T19:54:00Z',\n",
       "    'temperatureApparentAvg': 18.1,\n",
       "    'temperatureApparentMax': 23,\n",
       "    'temperatureApparentMin': 12.7,\n",
       "    'temperatureAvg': 18.1,\n",
       "    'temperatureMax': 23,\n",
       "    'temperatureMin': 12.7,\n",
       "    'uvHealthConcernAvg': 0,\n",
       "    'uvHealthConcernMax': 1,\n",
       "    'uvHealthConcernMin': 0,\n",
       "    'uvIndexAvg': 1,\n",
       "    'uvIndexMax': 5,\n",
       "    'uvIndexMin': 0,\n",
       "    'visibilityAvg': 16,\n",
       "    'visibilityMax': 16,\n",
       "    'visibilityMin': 16,\n",
       "    'weatherCodeMax': 1001,\n",
       "    'weatherCodeMin': 1001,\n",
       "    'windDirectionAvg': 110,\n",
       "    'windGustAvg': 7.9,\n",
       "    'windGustMax': 10,\n",
       "    'windGustMin': 4.1,\n",
       "    'windSpeedAvg': 3.6,\n",
       "    'windSpeedMax': 4.6,\n",
       "    'windSpeedMin': 2.1}},\n",
       "  {'time': '2025-06-12T05:00:00Z',\n",
       "   'values': {'cloudBaseAvg': 2.1,\n",
       "    'cloudBaseMax': 7.6,\n",
       "    'cloudBaseMin': 0,\n",
       "    'cloudCeilingAvg': 2.6,\n",
       "    'cloudCeilingMax': 10.7,\n",
       "    'cloudCeilingMin': 0,\n",
       "    'cloudCoverAvg': 54,\n",
       "    'cloudCoverMax': 100,\n",
       "    'cloudCoverMin': 0,\n",
       "    'dewPointAvg': 13.9,\n",
       "    'dewPointMax': 16.4,\n",
       "    'dewPointMin': 11.1,\n",
       "    'evapotranspirationAvg': 0.144,\n",
       "    'evapotranspirationMax': 0.234,\n",
       "    'evapotranspirationMin': 0.088,\n",
       "    'evapotranspirationSum': 3.464,\n",
       "    'freezingRainIntensityAvg': 0,\n",
       "    'freezingRainIntensityMax': 0,\n",
       "    'freezingRainIntensityMin': 0,\n",
       "    'humidityAvg': 72,\n",
       "    'humidityMax': 91,\n",
       "    'humidityMin': 58,\n",
       "    'iceAccumulationAvg': 0,\n",
       "    'iceAccumulationLweAvg': 0,\n",
       "    'iceAccumulationLweMax': 0,\n",
       "    'iceAccumulationLweMin': 0,\n",
       "    'iceAccumulationLweSum': 0,\n",
       "    'iceAccumulationMax': 0,\n",
       "    'iceAccumulationMin': 0,\n",
       "    'iceAccumulationSum': 0,\n",
       "    'moonriseTime': '2025-06-12T22:03:45Z',\n",
       "    'moonsetTime': '2025-06-12T03:52:43Z',\n",
       "    'precipitationProbabilityAvg': 0,\n",
       "    'precipitationProbabilityMax': 0,\n",
       "    'precipitationProbabilityMin': 0,\n",
       "    'pressureSeaLevelAvg': 1013.33,\n",
       "    'pressureSeaLevelMax': 1016.51,\n",
       "    'pressureSeaLevelMin': 1011.14,\n",
       "    'pressureSurfaceLevelAvg': 1010.83,\n",
       "    'pressureSurfaceLevelMax': 1014.01,\n",
       "    'pressureSurfaceLevelMin': 1008.65,\n",
       "    'rainAccumulationAvg': 0.07,\n",
       "    'rainAccumulationMax': 1.24,\n",
       "    'rainAccumulationMin': 0,\n",
       "    'rainAccumulationSum': 1.61,\n",
       "    'rainIntensityAvg': 0,\n",
       "    'rainIntensityMax': 0,\n",
       "    'rainIntensityMin': 0,\n",
       "    'sleetIntensityAvg': 0,\n",
       "    'sleetIntensityMax': 0,\n",
       "    'sleetIntensityMin': 0,\n",
       "    'snowAccumulationAvg': 0,\n",
       "    'snowAccumulationLweAvg': 0,\n",
       "    'snowAccumulationLweMax': 0,\n",
       "    'snowAccumulationLweMin': 0,\n",
       "    'snowAccumulationLweSum': 0,\n",
       "    'snowAccumulationMax': 0,\n",
       "    'snowAccumulationMin': 0,\n",
       "    'snowAccumulationSum': 0,\n",
       "    'snowIntensityAvg': 0,\n",
       "    'snowIntensityMax': 0,\n",
       "    'snowIntensityMin': 0,\n",
       "    'sunriseTime': '2025-06-12T04:08:00Z',\n",
       "    'sunsetTime': '2025-06-12T19:55:00Z',\n",
       "    'temperatureApparentAvg': 19.3,\n",
       "    'temperatureApparentMax': 24.1,\n",
       "    'temperatureApparentMin': 14.7,\n",
       "    'temperatureAvg': 19.3,\n",
       "    'temperatureMax': 24.1,\n",
       "    'temperatureMin': 14.7,\n",
       "    'uvHealthConcernAvg': 0,\n",
       "    'uvHealthConcernMax': 2,\n",
       "    'uvHealthConcernMin': 0,\n",
       "    'uvIndexAvg': 1,\n",
       "    'uvIndexMax': 6,\n",
       "    'uvIndexMin': 0,\n",
       "    'visibilityAvg': 16,\n",
       "    'visibilityMax': 16,\n",
       "    'visibilityMin': 16,\n",
       "    'weatherCodeMax': 1001,\n",
       "    'weatherCodeMin': 1001,\n",
       "    'windDirectionAvg': 159,\n",
       "    'windGustAvg': 6.3,\n",
       "    'windGustMax': 11.2,\n",
       "    'windGustMin': 1,\n",
       "    'windSpeedAvg': 2.9,\n",
       "    'windSpeedMax': 4.8,\n",
       "    'windSpeedMin': 0.6}},\n",
       "  {'time': '2025-06-13T05:00:00Z',\n",
       "   'values': {'cloudBaseAvg': 1.6,\n",
       "    'cloudBaseMax': 8.6,\n",
       "    'cloudBaseMin': 0,\n",
       "    'cloudCeilingAvg': 2.8,\n",
       "    'cloudCeilingMax': 10.8,\n",
       "    'cloudCeilingMin': 0,\n",
       "    'cloudCoverAvg': 66,\n",
       "    'cloudCoverMax': 100,\n",
       "    'cloudCoverMin': 3,\n",
       "    'dewPointAvg': 14.5,\n",
       "    'dewPointMax': 17.5,\n",
       "    'dewPointMin': 12.3,\n",
       "    'evapotranspirationAvg': 0.139,\n",
       "    'evapotranspirationMax': 0.239,\n",
       "    'evapotranspirationMin': 0.087,\n",
       "    'evapotranspirationSum': 3.341,\n",
       "    'freezingRainIntensityAvg': 0,\n",
       "    'freezingRainIntensityMax': 0,\n",
       "    'freezingRainIntensityMin': 0,\n",
       "    'humidityAvg': 69,\n",
       "    'humidityMax': 96,\n",
       "    'humidityMin': 42,\n",
       "    'iceAccumulationAvg': 0,\n",
       "    'iceAccumulationLweAvg': 0,\n",
       "    'iceAccumulationLweMax': 0,\n",
       "    'iceAccumulationLweMin': 0,\n",
       "    'iceAccumulationLweSum': 0,\n",
       "    'iceAccumulationMax': 0,\n",
       "    'iceAccumulationMin': 0,\n",
       "    'iceAccumulationSum': 0,\n",
       "    'moonriseTime': '2025-06-13T22:40:41Z',\n",
       "    'moonsetTime': '2025-06-13T04:56:57Z',\n",
       "    'precipitationProbabilityAvg': 3.8,\n",
       "    'precipitationProbabilityMax': 25,\n",
       "    'precipitationProbabilityMin': 0,\n",
       "    'pressureSeaLevelAvg': 1016.22,\n",
       "    'pressureSeaLevelMax': 1017.72,\n",
       "    'pressureSeaLevelMin': 1012.78,\n",
       "    'pressureSurfaceLevelAvg': 1013.72,\n",
       "    'pressureSurfaceLevelMax': 1015.24,\n",
       "    'pressureSurfaceLevelMin': 1010.28,\n",
       "    'rainAccumulationAvg': 0.09,\n",
       "    'rainAccumulationMax': 1.6,\n",
       "    'rainAccumulationMin': 0,\n",
       "    'rainAccumulationSum': 2.15,\n",
       "    'rainIntensityAvg': 0.05,\n",
       "    'rainIntensityMax': 0.68,\n",
       "    'rainIntensityMin': 0,\n",
       "    'sleetIntensityAvg': 0,\n",
       "    'sleetIntensityMax': 0,\n",
       "    'sleetIntensityMin': 0,\n",
       "    'snowAccumulationAvg': 0,\n",
       "    'snowAccumulationLweAvg': 0,\n",
       "    'snowAccumulationLweMax': 0,\n",
       "    'snowAccumulationLweMin': 0,\n",
       "    'snowAccumulationLweSum': 0,\n",
       "    'snowAccumulationMax': 0,\n",
       "    'snowAccumulationMin': 0,\n",
       "    'snowAccumulationSum': 0,\n",
       "    'snowIntensityAvg': 0,\n",
       "    'snowIntensityMax': 0,\n",
       "    'snowIntensityMin': 0,\n",
       "    'sunriseTime': '2025-06-13T04:08:00Z',\n",
       "    'sunsetTime': '2025-06-13T19:55:00Z',\n",
       "    'temperatureApparentAvg': 21.1,\n",
       "    'temperatureApparentMax': 26.7,\n",
       "    'temperatureApparentMin': 15.5,\n",
       "    'temperatureAvg': 21.1,\n",
       "    'temperatureMax': 26.7,\n",
       "    'temperatureMin': 15.5,\n",
       "    'uvHealthConcernAvg': 0,\n",
       "    'uvHealthConcernMax': 2,\n",
       "    'uvHealthConcernMin': 0,\n",
       "    'uvIndexAvg': 2,\n",
       "    'uvIndexMax': 6,\n",
       "    'uvIndexMin': 0,\n",
       "    'visibilityAvg': 16,\n",
       "    'visibilityMax': 16,\n",
       "    'visibilityMin': 16,\n",
       "    'weatherCodeMax': 1001,\n",
       "    'weatherCodeMin': 1001,\n",
       "    'windDirectionAvg': 179,\n",
       "    'windGustAvg': 5,\n",
       "    'windGustMax': 8.1,\n",
       "    'windGustMin': 2.5,\n",
       "    'windSpeedAvg': 2.1,\n",
       "    'windSpeedMax': 3.4,\n",
       "    'windSpeedMin': 0.7}},\n",
       "  {'time': '2025-06-14T05:00:00Z',\n",
       "   'values': {'cloudBaseAvg': 0.7,\n",
       "    'cloudBaseMax': 1.4,\n",
       "    'cloudBaseMin': 0,\n",
       "    'cloudCeilingAvg': 1.1,\n",
       "    'cloudCeilingMax': 8.6,\n",
       "    'cloudCeilingMin': 0,\n",
       "    'cloudCoverAvg': 29,\n",
       "    'cloudCoverMax': 93,\n",
       "    'cloudCoverMin': 0,\n",
       "    'dewPointAvg': 12.6,\n",
       "    'dewPointMax': 16.5,\n",
       "    'dewPointMin': 10.4,\n",
       "    'evapotranspirationAvg': 0.129,\n",
       "    'evapotranspirationMax': 0.203,\n",
       "    'evapotranspirationMin': 0.083,\n",
       "    'evapotranspirationSum': 3.093,\n",
       "    'freezingRainIntensityAvg': 0,\n",
       "    'freezingRainIntensityMax': 0,\n",
       "    'freezingRainIntensityMin': 0,\n",
       "    'humidityAvg': 75,\n",
       "    'humidityMax': 92,\n",
       "    'humidityMin': 50,\n",
       "    'iceAccumulationAvg': 0,\n",
       "    'iceAccumulationLweAvg': 0,\n",
       "    'iceAccumulationLweMax': 0,\n",
       "    'iceAccumulationLweMin': 0,\n",
       "    'iceAccumulationLweSum': 0,\n",
       "    'iceAccumulationMax': 0,\n",
       "    'iceAccumulationMin': 0,\n",
       "    'iceAccumulationSum': 0,\n",
       "    'moonriseTime': '2025-06-14T23:06:06Z',\n",
       "    'moonsetTime': '2025-06-14T06:11:55Z',\n",
       "    'precipitationProbabilityAvg': 0.6,\n",
       "    'precipitationProbabilityMax': 5,\n",
       "    'precipitationProbabilityMin': 0,\n",
       "    'pressureSeaLevelAvg': 1018.25,\n",
       "    'pressureSeaLevelMax': 1021.41,\n",
       "    'pressureSeaLevelMin': 1014.26,\n",
       "    'pressureSurfaceLevelAvg': 1015.72,\n",
       "    'pressureSurfaceLevelMax': 1018.88,\n",
       "    'pressureSurfaceLevelMin': 1011.79,\n",
       "    'rainAccumulationAvg': 0,\n",
       "    'rainAccumulationMax': 0,\n",
       "    'rainAccumulationMin': 0,\n",
       "    'rainAccumulationSum': 0,\n",
       "    'rainIntensityAvg': 0,\n",
       "    'rainIntensityMax': 0.02,\n",
       "    'rainIntensityMin': 0,\n",
       "    'sleetIntensityAvg': 0,\n",
       "    'sleetIntensityMax': 0,\n",
       "    'sleetIntensityMin': 0,\n",
       "    'snowAccumulationAvg': 0,\n",
       "    'snowAccumulationLweAvg': 0,\n",
       "    'snowAccumulationLweMax': 0,\n",
       "    'snowAccumulationLweMin': 0,\n",
       "    'snowAccumulationLweSum': 0,\n",
       "    'snowAccumulationMax': 0,\n",
       "    'snowAccumulationMin': 0,\n",
       "    'snowAccumulationSum': 0,\n",
       "    'snowIntensityAvg': 0,\n",
       "    'snowIntensityMax': 0,\n",
       "    'snowIntensityMin': 0,\n",
       "    'sunriseTime': '2025-06-14T04:08:00Z',\n",
       "    'sunsetTime': '2025-06-14T19:56:00Z',\n",
       "    'temperatureApparentAvg': 17.5,\n",
       "    'temperatureApparentMax': 21.3,\n",
       "    'temperatureApparentMin': 12.6,\n",
       "    'temperatureAvg': 17.5,\n",
       "    'temperatureMax': 21.3,\n",
       "    'temperatureMin': 12.6,\n",
       "    'uvHealthConcernAvg': 0,\n",
       "    'uvHealthConcernMax': 1,\n",
       "    'uvHealthConcernMin': 0,\n",
       "    'uvIndexAvg': 2,\n",
       "    'uvIndexMax': 4,\n",
       "    'uvIndexMin': 0,\n",
       "    'visibilityAvg': 16,\n",
       "    'visibilityMax': 16,\n",
       "    'visibilityMin': 16,\n",
       "    'weatherCodeMax': 1100,\n",
       "    'weatherCodeMin': 1100,\n",
       "    'windDirectionAvg': 231,\n",
       "    'windGustAvg': 7.7,\n",
       "    'windGustMax': 11.5,\n",
       "    'windGustMin': 4.6,\n",
       "    'windSpeedAvg': 3.5,\n",
       "    'windSpeedMax': 4.7,\n",
       "    'windSpeedMin': 2.3}},\n",
       "  {'time': '2025-06-15T05:00:00Z',\n",
       "   'values': {'cloudBaseAvg': 0.9,\n",
       "    'cloudBaseMax': 2.5,\n",
       "    'cloudBaseMin': 0,\n",
       "    'cloudCeilingAvg': 0.2,\n",
       "    'cloudCeilingMax': 0.9,\n",
       "    'cloudCeilingMin': 0,\n",
       "    'cloudCoverAvg': 40,\n",
       "    'cloudCoverMax': 100,\n",
       "    'cloudCoverMin': 1,\n",
       "    'dewPointAvg': 11.3,\n",
       "    'dewPointMax': 12.1,\n",
       "    'dewPointMin': 10.4,\n",
       "    'evapotranspirationAvg': 0.125,\n",
       "    'evapotranspirationMax': 0.185,\n",
       "    'evapotranspirationMin': 0.088,\n",
       "    'evapotranspirationSum': 2.995,\n",
       "    'freezingRainIntensityAvg': 0,\n",
       "    'freezingRainIntensityMax': 0,\n",
       "    'freezingRainIntensityMin': 0,\n",
       "    'humidityAvg': 71,\n",
       "    'humidityMax': 87,\n",
       "    'humidityMin': 51,\n",
       "    'iceAccumulationAvg': 0,\n",
       "    'iceAccumulationLweAvg': 0,\n",
       "    'iceAccumulationLweMax': 0,\n",
       "    'iceAccumulationLweMin': 0,\n",
       "    'iceAccumulationLweSum': 0,\n",
       "    'iceAccumulationMax': 0,\n",
       "    'iceAccumulationMin': 0,\n",
       "    'iceAccumulationSum': 0,\n",
       "    'moonriseTime': '2025-06-15T23:26:26Z',\n",
       "    'moonsetTime': '2025-06-15T07:34:13Z',\n",
       "    'precipitationProbabilityAvg': 2.5,\n",
       "    'precipitationProbabilityMax': 5,\n",
       "    'precipitationProbabilityMin': 0,\n",
       "    'pressureSeaLevelAvg': 1025.35,\n",
       "    'pressureSeaLevelMax': 1029.07,\n",
       "    'pressureSeaLevelMin': 1022.42,\n",
       "    'pressureSurfaceLevelAvg': 1022.82,\n",
       "    'pressureSurfaceLevelMax': 1026.52,\n",
       "    'pressureSurfaceLevelMin': 1019.9,\n",
       "    'rainAccumulationAvg': 0,\n",
       "    'rainAccumulationMax': 0,\n",
       "    'rainAccumulationMin': 0,\n",
       "    'rainAccumulationSum': 0,\n",
       "    'rainIntensityAvg': 0.03,\n",
       "    'rainIntensityMax': 0.15,\n",
       "    'rainIntensityMin': 0,\n",
       "    'sleetIntensityAvg': 0,\n",
       "    'sleetIntensityMax': 0,\n",
       "    'sleetIntensityMin': 0,\n",
       "    'snowAccumulationAvg': 0,\n",
       "    'snowAccumulationLweAvg': 0,\n",
       "    'snowAccumulationLweMax': 0,\n",
       "    'snowAccumulationLweMin': 0,\n",
       "    'snowAccumulationLweSum': 0,\n",
       "    'snowAccumulationMax': 0,\n",
       "    'snowAccumulationMin': 0,\n",
       "    'snowAccumulationSum': 0,\n",
       "    'snowIntensityAvg': 0,\n",
       "    'snowIntensityMax': 0,\n",
       "    'snowIntensityMin': 0,\n",
       "    'sunriseTime': '2025-06-15T04:08:00Z',\n",
       "    'sunsetTime': '2025-06-15T19:56:00Z',\n",
       "    'temperatureApparentAvg': 16.9,\n",
       "    'temperatureApparentMax': 20.8,\n",
       "    'temperatureApparentMin': 13.8,\n",
       "    'temperatureAvg': 16.9,\n",
       "    'temperatureMax': 20.8,\n",
       "    'temperatureMin': 13.8,\n",
       "    'visibilityAvg': 16,\n",
       "    'visibilityMax': 16,\n",
       "    'visibilityMin': 16,\n",
       "    'weatherCodeMax': 1000,\n",
       "    'weatherCodeMin': 1000,\n",
       "    'windDirectionAvg': 296,\n",
       "    'windGustAvg': 6.1,\n",
       "    'windGustMax': 9.1,\n",
       "    'windGustMin': 3.6,\n",
       "    'windSpeedAvg': 2.8,\n",
       "    'windSpeedMax': 4,\n",
       "    'windSpeedMin': 1.4}}]}"
      ]
     },
     "execution_count": 82,
     "metadata": {},
     "output_type": "execute_result"
    }
   ],
   "source": [
    "data['timelines']"
   ]
  },
  {
   "cell_type": "code",
   "execution_count": 83,
   "id": "8a512cbf-4429-4471-bd59-7c949e012126",
   "metadata": {},
   "outputs": [
    {
     "name": "stdout",
     "output_type": "stream",
     "text": [
      "dict_keys(['daily'])\n"
     ]
    }
   ],
   "source": [
    "print(data['timelines'].keys())"
   ]
  },
  {
   "cell_type": "code",
   "execution_count": 85,
   "id": "14d53bd3-90fc-43b0-b85b-c362baf81a8a",
   "metadata": {
    "scrolled": true
   },
   "outputs": [
    {
     "name": "stdout",
     "output_type": "stream",
     "text": [
      "{'time': '2025-06-10T05:00:00Z', 'values': {'cloudBaseAvg': 2.4, 'cloudBaseMax': 11.7, 'cloudBaseMin': 0, 'cloudCeilingAvg': 3.6, 'cloudCeilingMax': 12.5, 'cloudCeilingMin': 0, 'cloudCoverAvg': 71, 'cloudCoverMax': 100, 'cloudCoverMin': 0, 'dewPointAvg': 11.8, 'dewPointMax': 15.1, 'dewPointMin': 10.3, 'evapotranspirationAvg': 0.176, 'evapotranspirationMax': 0.376, 'evapotranspirationMin': 0.036, 'evapotranspirationSum': 4.216, 'freezingRainIntensityAvg': 0, 'freezingRainIntensityMax': 0, 'freezingRainIntensityMin': 0, 'humidityAvg': 71, 'humidityMax': 89, 'humidityMin': 50, 'iceAccumulationAvg': 0, 'iceAccumulationLweAvg': 0, 'iceAccumulationLweMax': 0, 'iceAccumulationLweMin': 0, 'iceAccumulationLweSum': 0, 'iceAccumulationMax': 0, 'iceAccumulationMin': 0, 'iceAccumulationSum': 0, 'moonriseTime': '2025-06-10T20:14:40Z', 'moonsetTime': '2025-06-10T02:28:28Z', 'precipitationProbabilityAvg': 0, 'precipitationProbabilityMax': 0, 'precipitationProbabilityMin': 0, 'pressureSeaLevelAvg': 1017.75, 'pressureSeaLevelMax': 1020.4, 'pressureSeaLevelMin': 1015.1, 'pressureSurfaceLevelAvg': 1015.19, 'pressureSurfaceLevelMax': 1017.88, 'pressureSurfaceLevelMin': 1011.53, 'rainAccumulationAvg': 0, 'rainAccumulationMax': 0.02, 'rainAccumulationMin': 0, 'rainAccumulationSum': 0.02, 'rainIntensityAvg': 0, 'rainIntensityMax': 0, 'rainIntensityMin': 0, 'sleetAccumulationAvg': 0, 'sleetAccumulationLweAvg': 0, 'sleetAccumulationLweMax': 0, 'sleetAccumulationLweMin': 0, 'sleetAccumulationLweSum': 0, 'sleetAccumulationMax': 0, 'sleetAccumulationMin': 0, 'sleetIntensityAvg': 0, 'sleetIntensityMax': 0, 'sleetIntensityMin': 0, 'snowAccumulationAvg': 0, 'snowAccumulationLweAvg': 0, 'snowAccumulationLweMax': 0, 'snowAccumulationLweMin': 0, 'snowAccumulationLweSum': 0, 'snowAccumulationMax': 0, 'snowAccumulationMin': 0, 'snowAccumulationSum': 0, 'snowIntensityAvg': 0, 'snowIntensityMax': 0, 'snowIntensityMin': 0, 'sunriseTime': '2025-06-10T04:08:00Z', 'sunsetTime': '2025-06-10T19:54:00Z', 'temperatureApparentAvg': 17.4, 'temperatureApparentMax': 23.4, 'temperatureApparentMin': 12.2, 'temperatureAvg': 17.4, 'temperatureMax': 23.4, 'temperatureMin': 12.2, 'uvHealthConcernAvg': 0, 'uvHealthConcernMax': 1, 'uvHealthConcernMin': 0, 'uvIndexAvg': 1, 'uvIndexMax': 4, 'uvIndexMin': 0, 'visibilityAvg': 16, 'visibilityMax': 16, 'visibilityMin': 16, 'weatherCodeMax': 1001, 'weatherCodeMin': 1001, 'windDirectionAvg': 189, 'windGustAvg': 5.8, 'windGustMax': 11.4, 'windGustMin': 2.9, 'windSpeedAvg': 2.7, 'windSpeedMax': 5.2, 'windSpeedMin': 1.1}}\n"
     ]
    }
   ],
   "source": [
    "print(data['timelines']['daily'])"
   ]
  },
  {
   "cell_type": "code",
   "execution_count": 96,
   "id": "97032256-da31-480a-b753-8317e21748e0",
   "metadata": {},
   "outputs": [
    {
     "name": "stdout",
     "output_type": "stream",
     "text": [
      "2025-06-10T05:00:00Z\n",
      "2025-06-11T05:00:00Z\n",
      "2025-06-12T05:00:00Z\n",
      "2025-06-13T05:00:00Z\n",
      "2025-06-14T05:00:00Z\n",
      "2025-06-15T05:00:00Z\n"
     ]
    }
   ],
   "source": [
    "for temp in data['timelines']['daily']: \n",
    "    print(temp['time'])"
   ]
  },
  {
   "cell_type": "code",
   "execution_count": 98,
   "id": "176b6822-aa4a-411c-ac28-e044cfcbf947",
   "metadata": {},
   "outputs": [
    {
     "name": "stdout",
     "output_type": "stream",
     "text": [
      "2025-06-10T05:00:00Z\n",
      "23.4\n",
      "2025-06-11T05:00:00Z\n",
      "23\n",
      "2025-06-12T05:00:00Z\n",
      "24.1\n",
      "2025-06-13T05:00:00Z\n",
      "26.7\n",
      "2025-06-14T05:00:00Z\n",
      "21.3\n",
      "2025-06-15T05:00:00Z\n",
      "20.8\n"
     ]
    }
   ],
   "source": [
    "# Print the maximum temperature of each of the days.\n",
    "for temp in data['timelines']['daily']: \n",
    "    print(temp['time'])\n",
    "    print(temp['values']['temperatureMax'])"
   ]
  },
  {
   "cell_type": "code",
   "execution_count": 100,
   "id": "c109b88e-5606-4525-89c2-e5d36d7b25b8",
   "metadata": {},
   "outputs": [
    {
     "name": "stdout",
     "output_type": "stream",
     "text": [
      "2025-06-13T05:00:00Z\n",
      "26.7\n"
     ]
    }
   ],
   "source": [
    " # Print only the day with the highest maximum temperature.\n",
    "#magic number chosen by me, with help from TA \n",
    "hottest_temp = -100\n",
    "hottest_date = ''\n",
    "\n",
    "for temp in data['timelines']['daily']:\n",
    "    if temp['values']['temperatureMax'] > hottest_temp:\n",
    "        hottest_temp = temp['values']['temperatureMax']\n",
    "        hottest_date = temp['time']\n",
    "\n",
    "print(hottest_date)\n",
    "print(hottest_temp)"
   ]
  },
  {
   "cell_type": "code",
   "execution_count": null,
   "id": "b3449411-c317-491e-8a6e-787c6ad80e16",
   "metadata": {},
   "outputs": [],
   "source": [
    "\n",
    "\n",
    "\n",
    "# Did you find this easier or more difficult than using the weatherapi.com, and why? Which would you recommend to someone interesting in building a tool around weather information?\n",
    "#no! maybe? it had a tester tool but the variable are less intuitively named than the weatherapi. \n"
   ]
  }
 ],
 "metadata": {
  "kernelspec": {
   "display_name": "Python 3 (ipykernel)",
   "language": "python",
   "name": "python3"
  },
  "language_info": {
   "codemirror_mode": {
    "name": "ipython",
    "version": 3
   },
   "file_extension": ".py",
   "mimetype": "text/x-python",
   "name": "python",
   "nbconvert_exporter": "python",
   "pygments_lexer": "ipython3",
   "version": "3.12.10"
  }
 },
 "nbformat": 4,
 "nbformat_minor": 5
}
